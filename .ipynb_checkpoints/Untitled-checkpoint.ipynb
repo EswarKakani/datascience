{
 "cells": [
  {
   "cell_type": "code",
   "execution_count": 8,
   "id": "c0e2fffe",
   "metadata": {},
   "outputs": [],
   "source": [
    "def my_fun():\n",
    "    return 3**2\n",
    "    "
   ]
  },
  {
   "cell_type": "code",
   "execution_count": 9,
   "id": "9de1cc3d",
   "metadata": {},
   "outputs": [
    {
     "data": {
      "text/plain": [
       "9"
      ]
     },
     "execution_count": 9,
     "metadata": {},
     "output_type": "execute_result"
    }
   ],
   "source": [
    "my_fun()"
   ]
  },
  {
   "cell_type": "code",
   "execution_count": 10,
   "id": "de9ecb2b",
   "metadata": {},
   "outputs": [],
   "source": [
    "seq = ['soup','dog','salad','cat','great']"
   ]
  },
  {
   "cell_type": "code",
   "execution_count": 31,
   "id": "76d5af8f",
   "metadata": {},
   "outputs": [],
   "source": [
    "is_birthday = False\n",
    "if is_birthday:\n",
    "    print(\"yes\")"
   ]
  },
  {
   "cell_type": "code",
   "execution_count": 32,
   "id": "27fdedfb",
   "metadata": {},
   "outputs": [
    {
     "data": {
      "text/plain": [
       "['soup', 'salad']"
      ]
     },
     "execution_count": 32,
     "metadata": {},
     "output_type": "execute_result"
    }
   ],
   "source": [
    "list(filter(lambda s: s[0] =='s', seq))"
   ]
  },
  {
   "cell_type": "code",
   "execution_count": 25,
   "id": "9d41f8a3",
   "metadata": {},
   "outputs": [],
   "source": [
    "def caught_speeding(speed, is_birthday):\n",
    "    if speed <= 60 and is_birthday == True:\n",
    "        return \"No ticket\"\n",
    "    elif speed > 60 <= 80 and is_birthday == True:\n",
    "        return \"Good\"\n",
    "    elif speed > 60 <= 80 and is_birthday == False:\n",
    "        return \"Bad\""
   ]
  },
  {
   "cell_type": "code",
   "execution_count": 26,
   "id": "fc8a8b65",
   "metadata": {},
   "outputs": [
    {
     "data": {
      "text/plain": [
       "'Bad'"
      ]
     },
     "execution_count": 26,
     "metadata": {},
     "output_type": "execute_result"
    }
   ],
   "source": [
    "caught_speeding(61, False)"
   ]
  },
  {
   "cell_type": "code",
   "execution_count": 38,
   "id": "00909197",
   "metadata": {},
   "outputs": [],
   "source": [
    "def caught_speeding(speed, is_birthday):\n",
    "    if is_birthday:\n",
    "        new_speed = speed -5\n",
    "    esle:\n",
    "        new_speed = speed\n",
    "    print(new_speed)\n",
    "\n",
    "        "
   ]
  },
  {
   "cell_type": "code",
   "execution_count": 44,
   "id": "eaa36922",
   "metadata": {},
   "outputs": [],
   "source": [
    "caught_speeding(61,False)"
   ]
  },
  {
   "cell_type": "code",
   "execution_count": 41,
   "id": "66c18523",
   "metadata": {},
   "outputs": [],
   "source": [
    "caught_speeding(81,False)"
   ]
  },
  {
   "cell_type": "code",
   "execution_count": null,
   "id": "52b6b4e3",
   "metadata": {},
   "outputs": [],
   "source": []
  }
 ],
 "metadata": {
  "kernelspec": {
   "display_name": "Python 3 (ipykernel)",
   "language": "python",
   "name": "python3"
  },
  "language_info": {
   "codemirror_mode": {
    "name": "ipython",
    "version": 3
   },
   "file_extension": ".py",
   "mimetype": "text/x-python",
   "name": "python",
   "nbconvert_exporter": "python",
   "pygments_lexer": "ipython3",
   "version": "3.8.9"
  }
 },
 "nbformat": 4,
 "nbformat_minor": 5
}
