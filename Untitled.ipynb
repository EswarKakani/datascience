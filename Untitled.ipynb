{
 "cells": [
  {
   "cell_type": "code",
   "execution_count": 8,
   "id": "c0e2fffe",
   "metadata": {},
   "outputs": [],
   "source": [
    "def my_fun():\n",
    "    return 3**2\n",
    "    "
   ]
  },
  {
   "cell_type": "code",
   "execution_count": 9,
   "id": "90476e36",
   "metadata": {},
   "outputs": [
    {
     "data": {
      "text/plain": [
       "9"
      ]
     },
     "execution_count": 9,
     "metadata": {},
     "output_type": "execute_result"
    }
   ],
   "source": [
    "my_fun()"
   ]
  },
  {
   "cell_type": "code",
   "execution_count": 10,
   "id": "2644a84b",
   "metadata": {},
   "outputs": [],
   "source": [
    "seq = ['soup','dog','salad','cat','great']"
   ]
  },
  {
   "cell_type": "code",
   "execution_count": 31,
   "id": "0989b8f4",
   "metadata": {},
   "outputs": [],
   "source": [
    "is_birthday = False\n",
    "if is_birthday:\n",
    "    print(\"yes\")"
   ]
  },
  {
   "cell_type": "code",
   "execution_count": 32,
   "id": "6b6d32ad",
   "metadata": {},
   "outputs": [
    {
     "data": {
      "text/plain": [
       "['soup', 'salad']"
      ]
     },
     "execution_count": 32,
     "metadata": {},
     "output_type": "execute_result"
    }
   ],
   "source": [
    "list(filter(lambda s: s[0] =='s', seq))"
   ]
  },
  {
   "cell_type": "code",
   "execution_count": 25,
   "id": "7686a4fc",
   "metadata": {},
   "outputs": [],
   "source": [
    "def caught_speeding(speed, is_birthday):\n",
    "    if speed <= 60 and is_birthday == True:\n",
    "        return \"No ticket\"\n",
    "    elif speed > 60 <= 80 and is_birthday == True:\n",
    "        return \"Good\"\n",
    "    elif speed > 60 <= 80 and is_birthday == False:\n",
    "        return \"Bad\""
   ]
  },
  {
   "cell_type": "code",
   "execution_count": 26,
   "id": "569575e7",
   "metadata": {},
   "outputs": [
    {
     "data": {
      "text/plain": [
       "'Bad'"
      ]
     },
     "execution_count": 26,
     "metadata": {},
     "output_type": "execute_result"
    }
   ],
   "source": [
    "caught_speeding(61, False)"
   ]
  },
  {
   "cell_type": "code",
   "execution_count": 60,
   "id": "f827bec7",
   "metadata": {},
   "outputs": [],
   "source": [
    "def caught_speeding(speed, is_birthday):\n",
    "    if is_birthday:\n",
    "        new_speed = speed -5\n",
    "    else:\n",
    "        new_speed = speed\n",
    "#     print(new_speed)\n",
    "    if new_speed <=60:\n",
    "        return 'No ticket'\n",
    "    elif (new_speed >60 and new_speed <=80) and (new_speed >60 or new_speed <=80):\n",
    "        return 'Small ticket'\n",
    "    else:\n",
    "        return 'Big ticket'\n",
    "        "
   ]
  },
  {
   "cell_type": "code",
   "execution_count": 66,
   "id": "c7c692f2",
   "metadata": {},
   "outputs": [
    {
     "name": "stdout",
     "output_type": "stream",
     "text": [
      "57\n"
     ]
    },
    {
     "data": {
      "text/plain": [
       "'No ticket'"
      ]
     },
     "execution_count": 66,
     "metadata": {},
     "output_type": "execute_result"
    }
   ],
   "source": [
    "caught_speeding(62,True)"
   ]
  },
  {
   "cell_type": "code",
   "execution_count": 67,
   "id": "9501628c",
   "metadata": {},
   "outputs": [
    {
     "name": "stdout",
     "output_type": "stream",
     "text": [
      "62\n"
     ]
    },
    {
     "data": {
      "text/plain": [
       "'Small ticket'"
      ]
     },
     "execution_count": 67,
     "metadata": {},
     "output_type": "execute_result"
    }
   ],
   "source": [
    "caught_speeding(62,False)"
   ]
  },
  {
   "cell_type": "code",
   "execution_count": null,
   "id": "c5df7c70",
   "metadata": {},
   "outputs": [],
   "source": []
  }
 ],
 "metadata": {
  "kernelspec": {
   "display_name": "Python 3 (ipykernel)",
   "language": "python",
   "name": "python3"
  },
  "language_info": {
   "codemirror_mode": {
    "name": "ipython",
    "version": 3
   },
   "file_extension": ".py",
   "mimetype": "text/x-python",
   "name": "python",
   "nbconvert_exporter": "python",
   "pygments_lexer": "ipython3",
   "version": "3.8.9"
  }
 },
 "nbformat": 4,
 "nbformat_minor": 5
}
