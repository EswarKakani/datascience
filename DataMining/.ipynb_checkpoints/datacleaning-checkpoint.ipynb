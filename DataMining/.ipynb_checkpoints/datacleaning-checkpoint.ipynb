{
 "cells": [
  {
   "cell_type": "code",
   "execution_count": 2,
   "id": "00dc72c1",
   "metadata": {},
   "outputs": [],
   "source": [
    "import pandas as pd\n",
    "import numpy as np\n",
    "import seaborn as sb\n",
    "import matplotlib.pyplot as mat\n",
    "\n",
    "%matplotlib inline"
   ]
  },
  {
   "cell_type": "code",
   "execution_count": 3,
   "id": "864846fd",
   "metadata": {},
   "outputs": [],
   "source": [
    "df = pd.read_csv('/Users/eswark/Documents/jupyternotebook/data/single_family_home_values.csv')"
   ]
  },
  {
   "cell_type": "code",
   "execution_count": 4,
   "id": "adc91c93",
   "metadata": {},
   "outputs": [],
   "source": [
    "df_2 = df"
   ]
  },
  {
   "cell_type": "code",
   "execution_count": 7,
   "id": "6a5d8de5",
   "metadata": {},
   "outputs": [],
   "source": [
    "df_3 = df.fillna('0')"
   ]
  },
  {
   "cell_type": "code",
   "execution_count": 8,
   "id": "d7c05c19",
   "metadata": {},
   "outputs": [
    {
     "name": "stderr",
     "output_type": "stream",
     "text": [
      "/var/folders/mn/9qb2c4yj6438pm25byr3pbqm0000gq/T/ipykernel_9095/3995997566.py:1: FutureWarning: Dropping of nuisance columns in DataFrame reductions (with 'numeric_only=None') is deprecated; in a future version this will raise TypeError.  Select only valid columns before calling the reduction.\n",
      "  df_4 = df.fillna(df.mean())\n"
     ]
    }
   ],
   "source": [
    "df_4 = df.fillna(df.mean())"
   ]
  },
  {
   "cell_type": "code",
   "execution_count": 9,
   "id": "daf46793",
   "metadata": {},
   "outputs": [
    {
     "name": "stdout",
     "output_type": "stream",
     "text": [
      "<class 'pandas.core.frame.DataFrame'>\n",
      "RangeIndex: 15000 entries, 0 to 14999\n",
      "Data columns (total 18 columns):\n",
      " #   Column           Non-Null Count  Dtype  \n",
      "---  ------           --------------  -----  \n",
      " 0   id               15000 non-null  int64  \n",
      " 1   address          15000 non-null  object \n",
      " 2   city             15000 non-null  object \n",
      " 3   state            15000 non-null  object \n",
      " 4   zipcode          15000 non-null  int64  \n",
      " 5   latitude         15000 non-null  float64\n",
      " 6   longitude        15000 non-null  float64\n",
      " 7   bedrooms         15000 non-null  int64  \n",
      " 8   bathrooms        15000 non-null  float64\n",
      " 9   rooms            15000 non-null  int64  \n",
      " 10  squareFootage    15000 non-null  int64  \n",
      " 11  lotSize          15000 non-null  int64  \n",
      " 12  yearBuilt        15000 non-null  float64\n",
      " 13  lastSaleDate     15000 non-null  object \n",
      " 14  lastSaleAmount   15000 non-null  int64  \n",
      " 15  priorSaleDate    11173 non-null  object \n",
      " 16  priorSaleAmount  15000 non-null  float64\n",
      " 17  estimated_value  15000 non-null  int64  \n",
      "dtypes: float64(5), int64(8), object(5)\n",
      "memory usage: 2.1+ MB\n"
     ]
    }
   ],
   "source": [
    "df_4.info()"
   ]
  },
  {
   "cell_type": "code",
   "execution_count": 16,
   "id": "5831cdcb",
   "metadata": {},
   "outputs": [
    {
     "name": "stderr",
     "output_type": "stream",
     "text": [
      "/Users/eswark/Documents/jupyternotebook/jp-env/lib/python3.8/site-packages/seaborn/_decorators.py:36: FutureWarning: Pass the following variable as a keyword arg: x. From version 0.12, the only valid positional argument will be `data`, and passing other arguments without an explicit keyword will result in an error or misinterpretation.\n",
      "  warnings.warn(\n"
     ]
    },
    {
     "data": {
      "text/plain": [
       "<AxesSubplot:xlabel='estimated_value'>"
      ]
     },
     "execution_count": 16,
     "metadata": {},
     "output_type": "execute_result"
    },
    {
     "data": {
      "image/png": "[encoded data removed]",
      "text/plain": [
       "<Figure size 432x288 with 1 Axes>"
      ]
     },
     "metadata": {
      "needs_background": "light"
     },
     "output_type": "display_data"
    }
   ],
   "source": [
    "sb.boxplot(df.estimated_value)"
   ]
  },
  {
   "cell_type": "code",
   "execution_count": 10,
   "id": "6d863280",
   "metadata": {},
   "outputs": [],
   "source": [
    "df = df[df.lastSaleAmount<=1000000]"
   ]
  },
  {
   "cell_type": "code",
   "execution_count": 11,
   "id": "5b3e9dbc",
   "metadata": {},
   "outputs": [
    {
     "data": {
      "text/plain": [
       "(14395, 18)"
      ]
     },
     "execution_count": 11,
     "metadata": {},
     "output_type": "execute_result"
    }
   ],
   "source": [
    "df.shape"
   ]
  },
  {
   "cell_type": "code",
   "execution_count": 12,
   "id": "08f93f78",
   "metadata": {},
   "outputs": [
    {
     "name": "stderr",
     "output_type": "stream",
     "text": [
      "/Users/eswark/Documents/jupyternotebook/jp-env/lib/python3.8/site-packages/seaborn/_decorators.py:36: FutureWarning: Pass the following variable as a keyword arg: x. From version 0.12, the only valid positional argument will be `data`, and passing other arguments without an explicit keyword will result in an error or misinterpretation.\n",
      "  warnings.warn(\n"
     ]
    },
    {
     "data": {
      "text/plain": [
       "<AxesSubplot:xlabel='estimated_value'>"
      ]
     },
     "execution_count": 12,
     "metadata": {},
     "output_type": "execute_result"
    },
    {
     "data": {
      "image/png": "[encoded data removed]",
      "text/plain": [
       "<Figure size 432x288 with 1 Axes>"
      ]
     },
     "metadata": {
      "needs_background": "light"
     },
     "output_type": "display_data"
    }
   ],
   "source": [
    "sb.boxplot(df.estimated_value)"
   ]
  },
  {
   "cell_type": "code",
   "execution_count": 13,
   "id": "46316d61",
   "metadata": {},
   "outputs": [
    {
     "data": {
      "text/plain": [
       "<AxesSubplot:xlabel='estimated_value', ylabel='Count'>"
      ]
     },
     "execution_count": 13,
     "metadata": {},
     "output_type": "execute_result"
    },
    {
     "data": {
      "image/png": "[encoded data removed]",
      "text/plain": [
       "<Figure size 432x288 with 1 Axes>"
      ]
     },
     "metadata": {
      "needs_background": "light"
     },
     "output_type": "display_data"
    }
   ],
   "source": [
    "sb.histplot(df.estimated_value)"
   ]
  },
  {
   "cell_type": "code",
   "execution_count": 14,
   "id": "8c14aaec",
   "metadata": {},
   "outputs": [
    {
     "data": {
      "text/plain": [
       "<AxesSubplot:>"
      ]
     },
     "execution_count": 14,
     "metadata": {},
     "output_type": "execute_result"
    },
    {
     "data": {
      "image/png": "[encoded data removed]",
      "text/plain": [
       "<Figure size 432x288 with 1 Axes>"
      ]
     },
     "metadata": {
      "needs_background": "light"
     },
     "output_type": "display_data"
    }
   ],
   "source": [
    "df.estimated_value.hist()"
   ]
  },
  {
   "cell_type": "code",
   "execution_count": 15,
   "id": "bba65541",
   "metadata": {},
   "outputs": [
    {
     "name": "stdout",
     "output_type": "stream",
     "text": [
      "<class 'pandas.core.frame.DataFrame'>\n",
      "Int64Index: 14395 entries, 0 to 14999\n",
      "Data columns (total 18 columns):\n",
      " #   Column           Non-Null Count  Dtype  \n",
      "---  ------           --------------  -----  \n",
      " 0   id               14395 non-null  int64  \n",
      " 1   address          14395 non-null  object \n",
      " 2   city             14395 non-null  object \n",
      " 3   state            14395 non-null  object \n",
      " 4   zipcode          14395 non-null  int64  \n",
      " 5   latitude         14382 non-null  float64\n",
      " 6   longitude        14382 non-null  float64\n",
      " 7   bedrooms         14395 non-null  int64  \n",
      " 8   bathrooms        14395 non-null  float64\n",
      " 9   rooms            14395 non-null  int64  \n",
      " 10  squareFootage    14395 non-null  int64  \n",
      " 11  lotSize          14395 non-null  int64  \n",
      " 12  yearBuilt        14394 non-null  float64\n",
      " 13  lastSaleDate     14395 non-null  object \n",
      " 14  lastSaleAmount   14395 non-null  int64  \n",
      " 15  priorSaleDate    10682 non-null  object \n",
      " 16  priorSaleAmount  10785 non-null  float64\n",
      " 17  estimated_value  14395 non-null  int64  \n",
      "dtypes: float64(5), int64(8), object(5)\n",
      "memory usage: 2.1+ MB\n"
     ]
    }
   ],
   "source": [
    "df.info()"
   ]
  },
  {
   "cell_type": "code",
   "execution_count": 16,
   "id": "54d0cdc9",
   "metadata": {},
   "outputs": [
    {
     "data": {
      "text/plain": [
       "<seaborn.axisgrid.PairGrid at 0x12cf9fe20>"
      ]
     },
     "execution_count": 16,
     "metadata": {},
     "output_type": "execute_result"
    },
    {
     "data": {
      "image/png": "[encoded data removed]",
      "text/plain": [
       "<Figure size 427.5x360 with 6 Axes>"
      ]
     },
     "metadata": {
      "needs_background": "light"
     },
     "output_type": "display_data"
    }
   ],
   "source": [
    "sb.pairplot(df[['estimated_value', 'lastSaleAmount', 'zipcode']], hue='zipcode')"
   ]
  },
  {
   "cell_type": "code",
   "execution_count": 37,
   "id": "d3e69f03",
   "metadata": {},
   "outputs": [
    {
     "data": {
      "text/plain": [
       "<AxesSubplot:xlabel='estimated_value'>"
      ]
     },
     "execution_count": 37,
     "metadata": {},
     "output_type": "execute_result"
    },
    {
     "data": {
      "image/png": "[encoded data removed]",
      "text/plain": [
       "<Figure size 432x288 with 1 Axes>"
      ]
     },
     "metadata": {
      "needs_background": "light"
     },
     "output_type": "display_data"
    }
   ],
   "source": [
    "sb.barplot(df['estimated_value'])"
   ]
  },
  {
   "cell_type": "code",
   "execution_count": 17,
   "id": "699ed7f7",
   "metadata": {},
   "outputs": [
    {
     "data": {
      "text/plain": [
       "<AxesSubplot:xlabel='zipcode', ylabel='estimated_value'>"
      ]
     },
     "execution_count": 17,
     "metadata": {},
     "output_type": "execute_result"
    },
    {
     "data": {
      "image/png": "[encoded data removed]",
      "text/plain": [
       "<Figure size 432x288 with 1 Axes>"
      ]
     },
     "metadata": {
      "needs_background": "light"
     },
     "output_type": "display_data"
    }
   ],
   "source": [
    "sb.stripplot(x=df.zipcode, y=df.estimated_value)"
   ]
  },
  {
   "cell_type": "code",
   "execution_count": 19,
   "id": "8e98c803",
   "metadata": {},
   "outputs": [
    {
     "data": {
      "text/plain": [
       "<AxesSubplot:xlabel='zipcode', ylabel='estimated_value'>"
      ]
     },
     "execution_count": 19,
     "metadata": {},
     "output_type": "execute_result"
    },
    {
     "data": {
      "image/png": "[encoded data removed]",
      "text/plain": [
       "<Figure size 432x288 with 1 Axes>"
      ]
     },
     "metadata": {
      "needs_background": "light"
     },
     "output_type": "display_data"
    }
   ],
   "source": [
    "sb.violinplot(x=df_3.zipcode, y=df_3.estimated_value)"
   ]
  },
  {
   "cell_type": "code",
   "execution_count": 20,
   "id": "112f8fac",
   "metadata": {},
   "outputs": [
    {
     "name": "stdout",
     "output_type": "stream",
     "text": [
      "<class 'pandas.core.frame.DataFrame'>\n",
      "Int64Index: 14395 entries, 0 to 14999\n",
      "Data columns (total 18 columns):\n",
      " #   Column           Non-Null Count  Dtype  \n",
      "---  ------           --------------  -----  \n",
      " 0   id               14395 non-null  int64  \n",
      " 1   address          14395 non-null  object \n",
      " 2   city             14395 non-null  object \n",
      " 3   state            14395 non-null  object \n",
      " 4   zipcode          14395 non-null  int64  \n",
      " 5   latitude         14382 non-null  float64\n",
      " 6   longitude        14382 non-null  float64\n",
      " 7   bedrooms         14395 non-null  int64  \n",
      " 8   bathrooms        14395 non-null  float64\n",
      " 9   rooms            14395 non-null  int64  \n",
      " 10  squareFootage    14395 non-null  int64  \n",
      " 11  lotSize          14395 non-null  int64  \n",
      " 12  yearBuilt        14394 non-null  float64\n",
      " 13  lastSaleDate     14395 non-null  object \n",
      " 14  lastSaleAmount   14395 non-null  int64  \n",
      " 15  priorSaleDate    10682 non-null  object \n",
      " 16  priorSaleAmount  10785 non-null  float64\n",
      " 17  estimated_value  14395 non-null  int64  \n",
      "dtypes: float64(5), int64(8), object(5)\n",
      "memory usage: 2.6+ MB\n"
     ]
    }
   ],
   "source": [
    "df.info()"
   ]
  },
  {
   "cell_type": "code",
   "execution_count": 22,
   "id": "d8532790",
   "metadata": {},
   "outputs": [
    {
     "name": "stderr",
     "output_type": "stream",
     "text": [
      "/var/folders/mn/9qb2c4yj6438pm25byr3pbqm0000gq/T/ipykernel_9095/1175613967.py:1: SettingWithCopyWarning: \n",
      "A value is trying to be set on a copy of a slice from a DataFrame.\n",
      "Try using .loc[row_indexer,col_indexer] = value instead\n",
      "\n",
      "See the caveats in the documentation: https://pandas.pydata.org/pandas-docs/stable/user_guide/indexing.html#returning-a-view-versus-a-copy\n",
      "  df['priorSaleDate'] = pd.to_datetime(df.priorSaleDate)\n"
     ]
    }
   ],
   "source": [
    "df['priorSaleDate'] = pd.to_datetime(df.priorSaleDate)"
   ]
  },
  {
   "cell_type": "code",
   "execution_count": 23,
   "id": "d5f7fca2",
   "metadata": {},
   "outputs": [
    {
     "name": "stderr",
     "output_type": "stream",
     "text": [
      "/var/folders/mn/9qb2c4yj6438pm25byr3pbqm0000gq/T/ipykernel_9095/821399898.py:1: SettingWithCopyWarning: \n",
      "A value is trying to be set on a copy of a slice from a DataFrame.\n",
      "Try using .loc[row_indexer,col_indexer] = value instead\n",
      "\n",
      "See the caveats in the documentation: https://pandas.pydata.org/pandas-docs/stable/user_guide/indexing.html#returning-a-view-versus-a-copy\n",
      "  df['lastSaleDate'] = pd.to_datetime(df.lastSaleDate)\n"
     ]
    }
   ],
   "source": [
    "df['lastSaleDate'] = pd.to_datetime(df.lastSaleDate)"
   ]
  },
  {
   "cell_type": "code",
   "execution_count": 33,
   "id": "cad2ed55",
   "metadata": {},
   "outputs": [
    {
     "name": "stderr",
     "output_type": "stream",
     "text": [
      "/var/folders/mn/9qb2c4yj6438pm25byr3pbqm0000gq/T/ipykernel_9095/3205761118.py:1: SettingWithCopyWarning: \n",
      "A value is trying to be set on a copy of a slice from a DataFrame.\n",
      "Try using .loc[row_indexer,col_indexer] = value instead\n",
      "\n",
      "See the caveats in the documentation: https://pandas.pydata.org/pandas-docs/stable/user_guide/indexing.html#returning-a-view-versus-a-copy\n",
      "  df['Weekday_lastSaleDate']=df.lastSaleDate.dt.weekday\n"
     ]
    }
   ],
   "source": [
    "df['Weekday_lastSaleDate']=df.lastSaleDate.dt.weekday\n"
   ]
  },
  {
   "cell_type": "code",
   "execution_count": 38,
   "id": "b7d68fd7",
   "metadata": {},
   "outputs": [
    {
     "data": {
      "text/plain": [
       "estimated_value         1.000000\n",
       "squareFootage           0.796646\n",
       "bathrooms               0.712077\n",
       "lastSaleAmount          0.703261\n",
       "rooms                   0.598091\n",
       "priorSaleAmount         0.554505\n",
       "bedrooms                0.405186\n",
       "longitude               0.182268\n",
       "lotSize                 0.176083\n",
       "id                      0.162054\n",
       "zipcode                 0.113527\n",
       "Weekday_lastSaleDate   -0.000375\n",
       "yearBuilt              -0.010393\n",
       "latitude               -0.268097\n",
       "Name: estimated_value, dtype: float64"
      ]
     },
     "execution_count": 38,
     "metadata": {},
     "output_type": "execute_result"
    }
   ],
   "source": [
    "df.corr().loc['estimated_value', :].sort_values(ascending=False)"
   ]
  },
  {
   "cell_type": "code",
   "execution_count": 39,
   "id": "945211b2",
   "metadata": {},
   "outputs": [
    {
     "data": {
      "text/html": [
       "<div>\n",
       "<style scoped>\n",
       "    .dataframe tbody tr th:only-of-type {\n",
       "        vertical-align: middle;\n",
       "    }\n",
       "\n",
       "    .dataframe tbody tr th {\n",
       "        vertical-align: top;\n",
       "    }\n",
       "\n",
       "    .dataframe thead th {\n",
       "        text-align: right;\n",
       "    }\n",
       "</style>\n",
       "<table border=\"1\" class=\"dataframe\">\n",
       "  <thead>\n",
       "    <tr style=\"text-align: right;\">\n",
       "      <th></th>\n",
       "      <th>id</th>\n",
       "      <th>zipcode</th>\n",
       "      <th>latitude</th>\n",
       "      <th>longitude</th>\n",
       "      <th>bedrooms</th>\n",
       "      <th>bathrooms</th>\n",
       "      <th>rooms</th>\n",
       "      <th>squareFootage</th>\n",
       "      <th>lotSize</th>\n",
       "      <th>yearBuilt</th>\n",
       "      <th>lastSaleAmount</th>\n",
       "      <th>priorSaleAmount</th>\n",
       "      <th>estimated_value</th>\n",
       "      <th>Weekday_lastSaleDate</th>\n",
       "    </tr>\n",
       "  </thead>\n",
       "  <tbody>\n",
       "    <tr>\n",
       "      <th>count</th>\n",
       "      <td>1.439500e+04</td>\n",
       "      <td>14395.000000</td>\n",
       "      <td>14382.000000</td>\n",
       "      <td>14382.000000</td>\n",
       "      <td>14395.000000</td>\n",
       "      <td>14395.000000</td>\n",
       "      <td>14395.000000</td>\n",
       "      <td>14395.000000</td>\n",
       "      <td>14395.000000</td>\n",
       "      <td>14394.000000</td>\n",
       "      <td>14395.000000</td>\n",
       "      <td>1.078500e+04</td>\n",
       "      <td>1.439500e+04</td>\n",
       "      <td>14395.000000</td>\n",
       "    </tr>\n",
       "    <tr>\n",
       "      <th>mean</th>\n",
       "      <td>5.075087e+07</td>\n",
       "      <td>80204.834804</td>\n",
       "      <td>39.741425</td>\n",
       "      <td>-104.964372</td>\n",
       "      <td>2.674331</td>\n",
       "      <td>2.084752</td>\n",
       "      <td>6.026884</td>\n",
       "      <td>1422.211740</td>\n",
       "      <td>5641.264119</td>\n",
       "      <td>1928.012992</td>\n",
       "      <td>337538.560611</td>\n",
       "      <td>2.261110e+05</td>\n",
       "      <td>5.677218e+05</td>\n",
       "      <td>1.979646</td>\n",
       "    </tr>\n",
       "    <tr>\n",
       "      <th>std</th>\n",
       "      <td>6.136443e+07</td>\n",
       "      <td>9.853305</td>\n",
       "      <td>0.023404</td>\n",
       "      <td>0.040445</td>\n",
       "      <td>0.872490</td>\n",
       "      <td>1.009442</td>\n",
       "      <td>1.807857</td>\n",
       "      <td>657.137371</td>\n",
       "      <td>2087.510598</td>\n",
       "      <td>28.471891</td>\n",
       "      <td>191327.461251</td>\n",
       "      <td>1.951611e+05</td>\n",
       "      <td>2.706125e+05</td>\n",
       "      <td>1.431378</td>\n",
       "    </tr>\n",
       "    <tr>\n",
       "      <th>min</th>\n",
       "      <td>1.433670e+05</td>\n",
       "      <td>80022.000000</td>\n",
       "      <td>39.614531</td>\n",
       "      <td>-105.108440</td>\n",
       "      <td>0.000000</td>\n",
       "      <td>0.000000</td>\n",
       "      <td>0.000000</td>\n",
       "      <td>350.000000</td>\n",
       "      <td>278.000000</td>\n",
       "      <td>1874.000000</td>\n",
       "      <td>259.000000</td>\n",
       "      <td>0.000000e+00</td>\n",
       "      <td>1.477670e+05</td>\n",
       "      <td>0.000000</td>\n",
       "    </tr>\n",
       "    <tr>\n",
       "      <th>25%</th>\n",
       "      <td>9.674678e+06</td>\n",
       "      <td>80205.000000</td>\n",
       "      <td>39.728698</td>\n",
       "      <td>-104.979482</td>\n",
       "      <td>2.000000</td>\n",
       "      <td>1.000000</td>\n",
       "      <td>5.000000</td>\n",
       "      <td>976.000000</td>\n",
       "      <td>4500.000000</td>\n",
       "      <td>1906.000000</td>\n",
       "      <td>189900.000000</td>\n",
       "      <td>1.075000e+05</td>\n",
       "      <td>3.944155e+05</td>\n",
       "      <td>1.000000</td>\n",
       "    </tr>\n",
       "    <tr>\n",
       "      <th>50%</th>\n",
       "      <td>2.471670e+07</td>\n",
       "      <td>80206.000000</td>\n",
       "      <td>39.748831</td>\n",
       "      <td>-104.957681</td>\n",
       "      <td>3.000000</td>\n",
       "      <td>2.000000</td>\n",
       "      <td>6.000000</td>\n",
       "      <td>1234.000000</td>\n",
       "      <td>5950.000000</td>\n",
       "      <td>1925.000000</td>\n",
       "      <td>309000.000000</td>\n",
       "      <td>2.030000e+05</td>\n",
       "      <td>5.069680e+05</td>\n",
       "      <td>2.000000</td>\n",
       "    </tr>\n",
       "    <tr>\n",
       "      <th>75%</th>\n",
       "      <td>5.111305e+07</td>\n",
       "      <td>80207.000000</td>\n",
       "      <td>39.758642</td>\n",
       "      <td>-104.936424</td>\n",
       "      <td>3.000000</td>\n",
       "      <td>3.000000</td>\n",
       "      <td>7.000000</td>\n",
       "      <td>1672.000000</td>\n",
       "      <td>6256.000000</td>\n",
       "      <td>1949.000000</td>\n",
       "      <td>440000.000000</td>\n",
       "      <td>3.180000e+05</td>\n",
       "      <td>6.635935e+05</td>\n",
       "      <td>3.000000</td>\n",
       "    </tr>\n",
       "    <tr>\n",
       "      <th>max</th>\n",
       "      <td>3.209481e+08</td>\n",
       "      <td>80209.000000</td>\n",
       "      <td>39.888020</td>\n",
       "      <td>-104.830930</td>\n",
       "      <td>15.000000</td>\n",
       "      <td>12.000000</td>\n",
       "      <td>39.000000</td>\n",
       "      <td>9394.000000</td>\n",
       "      <td>108900.000000</td>\n",
       "      <td>2016.000000</td>\n",
       "      <td>1000000.000000</td>\n",
       "      <td>5.000000e+06</td>\n",
       "      <td>6.095166e+06</td>\n",
       "      <td>6.000000</td>\n",
       "    </tr>\n",
       "  </tbody>\n",
       "</table>\n",
       "</div>"
      ],
      "text/plain": [
       "                 id       zipcode      latitude     longitude      bedrooms  \\\n",
       "count  1.439500e+04  14395.000000  14382.000000  14382.000000  14395.000000   \n",
       "mean   5.075087e+07  80204.834804     39.741425   -104.964372      2.674331   \n",
       "std    6.136443e+07      9.853305      0.023404      0.040445      0.872490   \n",
       "min    1.433670e+05  80022.000000     39.614531   -105.108440      0.000000   \n",
       "25%    9.674678e+06  80205.000000     39.728698   -104.979482      2.000000   \n",
       "50%    2.471670e+07  80206.000000     39.748831   -104.957681      3.000000   \n",
       "75%    5.111305e+07  80207.000000     39.758642   -104.936424      3.000000   \n",
       "max    3.209481e+08  80209.000000     39.888020   -104.830930     15.000000   \n",
       "\n",
       "          bathrooms         rooms  squareFootage        lotSize     yearBuilt  \\\n",
       "count  14395.000000  14395.000000   14395.000000   14395.000000  14394.000000   \n",
       "mean       2.084752      6.026884    1422.211740    5641.264119   1928.012992   \n",
       "std        1.009442      1.807857     657.137371    2087.510598     28.471891   \n",
       "min        0.000000      0.000000     350.000000     278.000000   1874.000000   \n",
       "25%        1.000000      5.000000     976.000000    4500.000000   1906.000000   \n",
       "50%        2.000000      6.000000    1234.000000    5950.000000   1925.000000   \n",
       "75%        3.000000      7.000000    1672.000000    6256.000000   1949.000000   \n",
       "max       12.000000     39.000000    9394.000000  108900.000000   2016.000000   \n",
       "\n",
       "       lastSaleAmount  priorSaleAmount  estimated_value  Weekday_lastSaleDate  \n",
       "count    14395.000000     1.078500e+04     1.439500e+04          14395.000000  \n",
       "mean    337538.560611     2.261110e+05     5.677218e+05              1.979646  \n",
       "std     191327.461251     1.951611e+05     2.706125e+05              1.431378  \n",
       "min        259.000000     0.000000e+00     1.477670e+05              0.000000  \n",
       "25%     189900.000000     1.075000e+05     3.944155e+05              1.000000  \n",
       "50%     309000.000000     2.030000e+05     5.069680e+05              2.000000  \n",
       "75%     440000.000000     3.180000e+05     6.635935e+05              3.000000  \n",
       "max    1000000.000000     5.000000e+06     6.095166e+06              6.000000  "
      ]
     },
     "execution_count": 39,
     "metadata": {},
     "output_type": "execute_result"
    }
   ],
   "source": [
    "df.describe()"
   ]
  },
  {
   "cell_type": "code",
   "execution_count": 46,
   "id": "ca61b2a2",
   "metadata": {},
   "outputs": [],
   "source": [
    "df2= df.groupby('zipcode').estimated_value.mean().reset_index()"
   ]
  },
  {
   "cell_type": "code",
   "execution_count": 55,
   "id": "d65ca763",
   "metadata": {},
   "outputs": [],
   "source": [
    "df2.columns = ['zipcode', 'median_value']"
   ]
  },
  {
   "cell_type": "code",
   "execution_count": 57,
   "id": "67b0363d",
   "metadata": {},
   "outputs": [],
   "source": [
    "df3 = pd.merge(df,df2, on ='zipcode')"
   ]
  },
  {
   "cell_type": "code",
   "execution_count": 59,
   "id": "c861190b",
   "metadata": {},
   "outputs": [
    {
     "data": {
      "text/html": [
       "<div>\n",
       "<style scoped>\n",
       "    .dataframe tbody tr th:only-of-type {\n",
       "        vertical-align: middle;\n",
       "    }\n",
       "\n",
       "    .dataframe tbody tr th {\n",
       "        vertical-align: top;\n",
       "    }\n",
       "\n",
       "    .dataframe thead th {\n",
       "        text-align: right;\n",
       "    }\n",
       "</style>\n",
       "<table border=\"1\" class=\"dataframe\">\n",
       "  <thead>\n",
       "    <tr style=\"text-align: right;\">\n",
       "      <th></th>\n",
       "      <th>id</th>\n",
       "      <th>address</th>\n",
       "      <th>city</th>\n",
       "      <th>state</th>\n",
       "      <th>zipcode</th>\n",
       "      <th>latitude</th>\n",
       "      <th>longitude</th>\n",
       "      <th>bedrooms</th>\n",
       "      <th>bathrooms</th>\n",
       "      <th>rooms</th>\n",
       "      <th>squareFootage</th>\n",
       "      <th>lotSize</th>\n",
       "      <th>yearBuilt</th>\n",
       "      <th>lastSaleDate</th>\n",
       "      <th>lastSaleAmount</th>\n",
       "      <th>priorSaleDate</th>\n",
       "      <th>priorSaleAmount</th>\n",
       "      <th>estimated_value</th>\n",
       "      <th>Weekday_lastSaleDate</th>\n",
       "      <th>median_value</th>\n",
       "    </tr>\n",
       "  </thead>\n",
       "  <tbody>\n",
       "    <tr>\n",
       "      <th>0</th>\n",
       "      <td>39525749.0</td>\n",
       "      <td>8171 E 84th Ave</td>\n",
       "      <td>Denver</td>\n",
       "      <td>CO</td>\n",
       "      <td>80022.0</td>\n",
       "      <td>39.84916</td>\n",
       "      <td>-104.893468</td>\n",
       "      <td>3.0</td>\n",
       "      <td>2.0</td>\n",
       "      <td>6.0</td>\n",
       "      <td>1378.0</td>\n",
       "      <td>9968.0</td>\n",
       "      <td>2003.0</td>\n",
       "      <td>2009-12-17</td>\n",
       "      <td>75000.0</td>\n",
       "      <td>2004-05-13</td>\n",
       "      <td>165700.0</td>\n",
       "      <td>239753.0</td>\n",
       "      <td>3.0</td>\n",
       "      <td>291858.0</td>\n",
       "    </tr>\n",
       "    <tr>\n",
       "      <th>1</th>\n",
       "      <td>184578398.0</td>\n",
       "      <td>10556 Wheeling St</td>\n",
       "      <td>Denver</td>\n",
       "      <td>CO</td>\n",
       "      <td>80022.0</td>\n",
       "      <td>39.88802</td>\n",
       "      <td>-104.830930</td>\n",
       "      <td>2.0</td>\n",
       "      <td>2.0</td>\n",
       "      <td>6.0</td>\n",
       "      <td>1653.0</td>\n",
       "      <td>6970.0</td>\n",
       "      <td>2004.0</td>\n",
       "      <td>2004-09-23</td>\n",
       "      <td>216935.0</td>\n",
       "      <td>NaT</td>\n",
       "      <td>NaN</td>\n",
       "      <td>343963.0</td>\n",
       "      <td>3.0</td>\n",
       "      <td>291858.0</td>\n",
       "    </tr>\n",
       "  </tbody>\n",
       "</table>\n",
       "</div>"
      ],
      "text/plain": [
       "            id            address    city state  zipcode  latitude  \\\n",
       "0   39525749.0    8171 E 84th Ave  Denver    CO  80022.0  39.84916   \n",
       "1  184578398.0  10556 Wheeling St  Denver    CO  80022.0  39.88802   \n",
       "\n",
       "    longitude  bedrooms  bathrooms  rooms  squareFootage  lotSize  yearBuilt  \\\n",
       "0 -104.893468       3.0        2.0    6.0         1378.0   9968.0     2003.0   \n",
       "1 -104.830930       2.0        2.0    6.0         1653.0   6970.0     2004.0   \n",
       "\n",
       "  lastSaleDate  lastSaleAmount priorSaleDate  priorSaleAmount  \\\n",
       "0   2009-12-17         75000.0    2004-05-13         165700.0   \n",
       "1   2004-09-23        216935.0           NaT              NaN   \n",
       "\n",
       "   estimated_value  Weekday_lastSaleDate  median_value  \n",
       "0         239753.0                   3.0      291858.0  \n",
       "1         343963.0                   3.0      291858.0  "
      ]
     },
     "execution_count": 59,
     "metadata": {},
     "output_type": "execute_result"
    }
   ],
   "source": [
    "df3.head(2)"
   ]
  },
  {
   "cell_type": "code",
   "execution_count": null,
   "id": "1cc75001",
   "metadata": {},
   "outputs": [],
   "source": []
  }
 ],
 "metadata": {
  "kernelspec": {
   "display_name": "Python 3 (ipykernel)",
   "language": "python",
   "name": "python3"
  },
  "language_info": {
   "codemirror_mode": {
    "name": "ipython",
    "version": 3
   },
   "file_extension": ".py",
   "mimetype": "text/x-python",
   "name": "python",
   "nbconvert_exporter": "python",
   "pygments_lexer": "ipython3",
   "version": "3.8.9"
  }
 },
 "nbformat": 4,
 "nbformat_minor": 5
}
